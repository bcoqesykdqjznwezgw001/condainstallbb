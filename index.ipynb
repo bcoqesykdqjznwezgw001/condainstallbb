{
 "cells": [
  {
   "cell_type": "code",
   "execution_count": null,
   "metadata": {},
   "outputs": [],
   "source": [
    "#hide\n",
    "from gpu_tpu_lab_server.core import *\n",
    "from nbdev import *"
   ]
  },
  {
   "cell_type": "markdown",
   "metadata": {},
   "source": [
    "# gpu_tpu_lab_server\n",
    "\n",
    "> Running a jupyter lab or vs code server environment from colab with google drive support.<br><br>\n",
    "> References [fns.colab](https://github.com/amitness/fns/blob/master/fns/colab.py) i.e) version < 0.5."
   ]
  },
  {
   "cell_type": "markdown",
   "metadata": {},
   "source": [
    "## Motivation for creating this package\n",
    "1. For some reason in [fns](https://github.com/amitness/fns/) python package version >=0.5, fns.colab supports only normal jupyter notebook with drive support, so here I have used the previous version of that fns.colab code to support jupyter lab environment.\n",
    "1. It was boring to copy paste the whole code everytime to start the jupyter lab environment in colab, so I created a package of it. \n",
    "1. Also, I wanted to try how to create python package using nbdev, this sounded like a good excuse.\n"
   ]
  },
  {
   "cell_type": "markdown",
   "metadata": {},
   "source": [
    "## Install"
   ]
  },
  {
   "cell_type": "markdown",
   "metadata": {},
   "source": [
    "`pip install gpu_tpu_lab_server`"
   ]
  },
  {
   "cell_type": "markdown",
   "metadata": {},
   "source": [
    "## How to use"
   ]
  },
  {
   "cell_type": "code",
   "execution_count": null,
   "metadata": {},
   "outputs": [],
   "source": [
    "from gpu_tpu_lab_server.core import jupyter_lab"
   ]
  },
  {
   "cell_type": "markdown",
   "metadata": {},
   "source": [
    "### run\n",
    "jupyter_lab()  # for jupyter_lab environment <br>\n",
    "vscode()  # for vscode server environment"
   ]
  }
 ],
 "metadata": {
  "kernelspec": {
   "display_name": "Python 3",
   "language": "python",
   "name": "python3"
  }
 },
 "nbformat": 4,
 "nbformat_minor": 2
}
