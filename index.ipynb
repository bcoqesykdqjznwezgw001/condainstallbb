{
 "cells": [
  {
   "cell_type": "code",
   "execution_count": null,
   "metadata": {},
   "outputs": [],
   "source": [
    "#hide\n",
    "from gpu_tpu_lab_server.core import *\n",
    "from nbdev import *"
   ]
  },
  {
   "cell_type": "markdown",
   "metadata": {},
   "source": [
    "# gpu_tpu_lab_server\n",
    "\n",
    "> Running a jupyter lab or vs code server environment from colab with google drive support.<br><br>\n",
    "> References [fns.colab](https://github.com/amitness/fns/blob/master/fns/colab.py) i.e) version < 0.5."
   ]
  },
  {
   "cell_type": "markdown",
   "metadata": {},
   "source": [
    "## Motivation for creating this package\n",
    "1. For some reason in [fns](https://github.com/amitness/fns/) python package version >=0.5, fns.colab supports only normal jupyter notebook with drive support, so here I have used the previous version of that fns.colab code to support jupyter lab environment.\n",
    "1. It was boring to copy paste the whole code everytime to start the jupyter lab environment in colab, so I created a package of it. \n",
    "1. Also, I wanted to try how to create python package using nbdev, this sounded like a good excuse.\n"
   ]
  },
  {
   "cell_type": "markdown",
   "metadata": {},
   "source": [
    "## Install"
   ]
  },
  {
   "cell_type": "markdown",
   "metadata": {},
   "source": [
    "`pip install gpu_tpu_lab_server`"
   ]
  },
  {
   "cell_type": "markdown",
   "metadata": {},
   "source": [
    "## How to use"
   ]
  },
  {
   "cell_type": "code",
   "execution_count": null,
   "metadata": {},
   "outputs": [],
   "source": [
    "from gpu_tpu_lab_server.core import jupyter_lab, vscode, run_process_in_background, run_process_in_foreground"
   ]
  },
  {
   "cell_type": "markdown",
   "metadata": {},
   "source": [
    "## For starting the server in google colab with google_drive support\n",
    "### To enable jupyter_lab_environment\n",
    "1. execute `jupyter_lab()`  \n",
    "2. an authorization window will open with a link, go to the link > select your google account > accept all the permissions > authorization code will be displayed > copy and paste the code in the window\n",
    "3. an localtunnel link will be returned, go to that link, wait for 10 second, then press open tunnel button, it will open an jupyter lab environment\n",
    "\n",
    "### To enable vscode() environment\n",
    "1. execute `vscode()` optional parameter any text :- the generated link will have the text or by default fastdaima\n",
    "2. an authorization window will open with a link, go to the link > select your google account > accept all the permissions > authorization code will be displayed > copy and paste the code in the window\n",
    "3. an localtunnel link will be returned, go to that link it will open an vscode server environment"
   ]
  },
  {
   "cell_type": "code",
   "execution_count": null,
   "metadata": {},
   "outputs": [],
   "source": []
  }
 ],
 "metadata": {
  "kernelspec": {
   "display_name": "Python 3",
   "language": "python",
   "name": "python3"
  }
 },
 "nbformat": 4,
 "nbformat_minor": 4
}
