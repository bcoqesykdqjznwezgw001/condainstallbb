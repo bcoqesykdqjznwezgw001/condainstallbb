{
 "cells": [
  {
   "cell_type": "code",
   "execution_count": null,
   "metadata": {},
   "outputs": [],
   "source": [
    "# default_exp core"
   ]
  },
  {
   "cell_type": "code",
   "execution_count": null,
   "metadata": {},
   "outputs": [],
   "source": [
    "%load_ext autoreload\n",
    "%autoreload 2"
   ]
  },
  {
   "cell_type": "markdown",
   "metadata": {},
   "source": [
    "# gpu_tpu_lab_server\n",
    "\n",
    "> Running a jupyter lab or vs code server environment from colab with google drive support.<br><br>\n",
    "> References old version of https://github.com/amitness/fns/blob/master/fns/colab.py i.e) version < 0.5."
   ]
  },
  {
   "cell_type": "code",
   "execution_count": null,
   "metadata": {},
   "outputs": [],
   "source": [
    "#hide\n",
    "from nbdev.showdoc import *"
   ]
  },
  {
   "cell_type": "code",
   "execution_count": null,
   "metadata": {},
   "outputs": [],
   "source": [
    "#export\n",
    "from subprocess import Popen, PIPE, STDOUT, run\n",
    "import os\n",
    "import time\n",
    "from importlib import import_module"
   ]
  },
  {
   "cell_type": "code",
   "execution_count": null,
   "metadata": {},
   "outputs": [],
   "source": [
    "#export\n",
    "def run_process_in_foreground(command:str)->None:\n",
    "    \"runs bash command in foreground please check http://blog.kagesenshi.org/2008/02/teeing-python-subprocesspopen-output.html\"\n",
    "    child_program_process = Popen(command, shell=True, stdout=PIPE, stderr=STDOUT)\n",
    "    while True:\n",
    "        read_line = child_program_process.stdout.readline()\n",
    "        print (read_line.strip())\n",
    "        if (read_line == '' and child_program_process.poll() != None): break\n",
    "    return None"
   ]
  },
  {
   "cell_type": "code",
   "execution_count": null,
   "metadata": {},
   "outputs": [],
   "source": [
    "#export\n",
    "def run_process_in_background(command:str)->None:\n",
    "    \"runs bash command in background\"\n",
    "    Popen(command,shell=True)\n",
    "    "
   ]
  },
  {
   "cell_type": "code",
   "execution_count": null,
   "metadata": {},
   "outputs": [],
   "source": [
    "#export\n",
    "def jupyter_lab(lab: bool = True, dir_name: str = 'None') -> None:\n",
    "    \"starts jupyter lab server using localtunnel\"\n",
    "    from google.colab import drive\n",
    "    drive.mount('/content/drive')\n",
    "    os.chdir('/content/drive/MyDrive/colab/')\n",
    "    command = 'nohup jupyter lab --notebook-dir=\"/content/drive/MyDrive/colab\" --no-browser --allow-root --ip=\"0.0.0.0\" --port=\"6006\" &'\n",
    "    run_process_in_background(command)\n",
    "    time.sleep(5)\n",
    "    run_process_in_foreground('npx localtunnel --port 6006')\n",
    "    "
   ]
  },
  {
   "cell_type": "code",
   "execution_count": null,
   "metadata": {},
   "outputs": [],
   "source": [
    "#export\n",
    "def vscode(subdomain: str = 'fastdaima', port: int = 9000, config_save_path: str = '/content/drive/MyDrive/colab/.vscode') -> None:\n",
    "    drive = import_module('google.colab.drive')\n",
    "    drive.mount('/content/drive')\n",
    "    run(['curl', '-fsSL', 'https://code-server.dev/install.sh', '-O'])\n",
    "    run(['bash', 'install.sh', '--version', '3.10.2'])\n",
    "    run(['pip3', 'install', 'flake8', '--user'])\n",
    "    run(['pip3', 'install', 'black', '--user'])\n",
    "    print(f'https://{subdomain}.loca.lt/?folder=/content/drive/MyDrive/colab')\n",
    "    run_process_in_foreground(\n",
    "        f'code-server --port {port} --auth none --disable-telemetry --force --user-data-dir {config_save_path} & npx localtunnel -p {port} -s {subdomain} --allow-invalid-cert')\n",
    "    "
   ]
  },
  {
   "cell_type": "code",
   "execution_count": null,
   "metadata": {},
   "outputs": [],
   "source": [
    "#hide\n",
    "# def expose_port(port: int, path: str = '/') -> None:\n",
    "#     \"\"\"\n",
    "#     Expose port as an external URL.\n",
    "\n",
    "#     The URL is only accessible to you and available till the notebook runs.\n",
    "\n",
    "#     Args:\n",
    "#         port: Port a service is running on\n",
    "#         path: Path the service is running on\n",
    "\n",
    "#     Returns:\n",
    "#         None\n",
    "#     \"\"\"\n",
    "#     output = import_module('google.colab.output')\n",
    "#     output.serve_kernel_port_as_window(port, path=path)"
   ]
  },
  {
   "cell_type": "code",
   "execution_count": null,
   "metadata": {},
   "outputs": [
    {
     "name": "stdout",
     "output_type": "stream",
     "text": [
      "Converted 00_core.ipynb.\n",
      "Converted index.ipynb.\n"
     ]
    }
   ],
   "source": [
    "from nbdev.export import notebook2script\n",
    "notebook2script()"
   ]
  }
 ],
 "metadata": {
  "kernelspec": {
   "display_name": "Python 3",
   "language": "python",
   "name": "python3"
  }
 },
 "nbformat": 4,
 "nbformat_minor": 4
}
